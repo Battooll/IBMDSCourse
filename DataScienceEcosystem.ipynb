{
 "cells": [
  {
   "cell_type": "markdown",
   "id": "b3738cb4",
   "metadata": {},
   "source": [
    "<center>\n",
    "    <img src=\"https://cf-courses-data.s3.us.cloud-object-storage.appdomain.cloud/IBMDeveloperSkillsNetwork-DS0105EN-SkillsNetwork/labs/Module2/images/SN_web_lightmode.png\" width=\"300\" alt=\"cognitiveclass.ai logo\">\n",
    "</center>\n"
   ]
  },
  {
   "cell_type": "markdown",
   "id": "42e02636",
   "metadata": {},
   "source": [
    "## Exercise 1: Create a Jupyter Notebook\n",
    "**Create a Jupyter Notebook called DataScienceEcosystem.ipynb**"
   ]
  },
  {
   "cell_type": "markdown",
   "id": "d31f93c1",
   "metadata": {},
   "source": [
    "## Exercise 2: Create markdown cell with title of the notebook"
   ]
  },
  {
   "cell_type": "markdown",
   "id": "ac05f67d",
   "metadata": {},
   "source": [
    "### Data Science Tools and Ecosystem"
   ]
  },
  {
   "cell_type": "markdown",
   "id": "020c3682",
   "metadata": {},
   "source": [
    "## Exercise 3 - Create a markdown cell for an introduction\n",
    "### In this notebook, Data Science Tools and Ecosystem are summarized."
   ]
  },
  {
   "cell_type": "markdown",
   "id": "42d13f3b",
   "metadata": {},
   "source": [
    "## Exercise 10 - Insert a markdown cell to list Objectives"
   ]
  },
  {
   "cell_type": "markdown",
   "id": "a17e3b0f",
   "metadata": {},
   "source": [
    "**Objectives:**\n",
    "    \n",
    "* Most popular languages for Data Science: Python and R.\n",
    "* Most popular libraries for Data Science using Python: Sickit-learn and TensorFlow.\n",
    "* Most popular Tools for Data Science: Jupyter and RStudio."
   ]
  },
  {
   "cell_type": "markdown",
   "id": "c9f81aa3",
   "metadata": {},
   "source": [
    "## Exercise 4 - Create a markdown cell to list data science languages\n",
    "**Some of the popular languages that Data Scientists use are:**\n",
    "\n",
    "1- Python.\n",
    "\n",
    "2- R.\n",
    "\n",
    "3- Julia."
   ]
  },
  {
   "cell_type": "markdown",
   "id": "d2c9aa57",
   "metadata": {},
   "source": [
    "## Exercise 5 - Create a markdown cell to list data science libraries\n",
    "**Some of the popular languages that Data Scientists use are:**\n",
    "\n",
    "1- Sickit-learn.\n",
    "\n",
    "2- TensorFlow.\n",
    "\n",
    "3- PyTroch."
   ]
  },
  {
   "cell_type": "markdown",
   "id": "b34e3312",
   "metadata": {},
   "source": [
    "## Exercise 6 - Create a markdown cell with a table of Data Science tools\n",
    "\n",
    "| Data Science Tools \n",
    "--------------------------\n",
    "| Jupyter |\n",
    "RStudio |\n",
    "IBM Watson Studio "
   ]
  },
  {
   "cell_type": "markdown",
   "id": "b32e2c11",
   "metadata": {},
   "source": [
    "## Exercise 7 - Create a markdown cell introducing arithmetic expression examples"
   ]
  },
  {
   "cell_type": "markdown",
   "id": "bfeda3b3",
   "metadata": {},
   "source": [
    "### Below are a few examples of evaluating arithmetic expressions in Python."
   ]
  },
  {
   "cell_type": "markdown",
   "id": "6fcf4ced",
   "metadata": {},
   "source": [
    "## Exercise 8 - Create a code cell to multiply and add numbers"
   ]
  },
  {
   "cell_type": "code",
   "execution_count": 1,
   "id": "2673d883",
   "metadata": {},
   "outputs": [
    {
     "data": {
      "text/plain": [
       "17"
      ]
     },
     "execution_count": 1,
     "metadata": {},
     "output_type": "execute_result"
    }
   ],
   "source": [
    "#This a simple arithmetic expression to mutiply then add integers\n",
    "(3*4)+5"
   ]
  },
  {
   "cell_type": "markdown",
   "id": "af8255b4",
   "metadata": {},
   "source": [
    "## Exercise 9 - Create a code cell to convert minutes to hours"
   ]
  },
  {
   "cell_type": "code",
   "execution_count": 6,
   "id": "af8c8bdd",
   "metadata": {},
   "outputs": [
    {
     "name": "stdout",
     "output_type": "stream",
     "text": [
      "200 mins to hours=  3.3333333333333335\n"
     ]
    }
   ],
   "source": [
    "#This will convert 200 minutes to hours by diving by 60.\n",
    "hours = 200/60\n",
    "print (\"200 mins to hours= \", hours)"
   ]
  },
  {
   "cell_type": "markdown",
   "id": "2cfa899e",
   "metadata": {},
   "source": [
    "## Exercise 11 - Create a markdown cell to indicate the Author's name"
   ]
  },
  {
   "cell_type": "markdown",
   "id": "95182901",
   "metadata": {},
   "source": [
    "## Author \n",
    "Batool Hammoud "
   ]
  },
  {
   "cell_type": "markdown",
   "id": "96099522",
   "metadata": {},
   "source": [
    "## Exercise 12 - Share your notebook through GitHub"
   ]
  },
  {
   "cell_type": "markdown",
   "id": "98ea52f0",
   "metadata": {},
   "source": [
    "## Exercise 13 -Take a screenshot of the first page of the notebook and save it as"
   ]
  },
  {
   "cell_type": "code",
   "execution_count": null,
   "id": "c6258ea2",
   "metadata": {},
   "outputs": [],
   "source": []
  }
 ],
 "metadata": {
  "kernelspec": {
   "display_name": "Python 3 (ipykernel)",
   "language": "python",
   "name": "python3"
  },
  "language_info": {
   "codemirror_mode": {
    "name": "ipython",
    "version": 3
   },
   "file_extension": ".py",
   "mimetype": "text/x-python",
   "name": "python",
   "nbconvert_exporter": "python",
   "pygments_lexer": "ipython3",
   "version": "3.9.7"
  }
 },
 "nbformat": 4,
 "nbformat_minor": 5
}
